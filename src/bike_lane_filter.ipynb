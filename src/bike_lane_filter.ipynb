{
 "cells": [
  {
   "cell_type": "code",
   "execution_count": 1,
   "metadata": {},
   "outputs": [],
   "source": [
    "import pandas as pd\n",
    "\n",
    "df = pd.read_csv(\"tmpdt2ta2dq.csv\", low_memory=False)\n",
    "# pd.options.display.max_columns = df.shape[1]"
   ]
  },
  {
   "cell_type": "code",
   "execution_count": 2,
   "metadata": {},
   "outputs": [
    {
     "data": {
      "text/plain": [
       "(1607859, 29)"
      ]
     },
     "execution_count": 2,
     "metadata": {},
     "output_type": "execute_result"
    }
   ],
   "source": [
    "df.shape"
   ]
  },
  {
   "cell_type": "code",
   "execution_count": 3,
   "metadata": {},
   "outputs": [],
   "source": [
    "df_bike=df[df['closure_reason'].str.contains(\"bike lane\")]\n",
    "df_bike=df_bike[~df_bike['case_title'].isin(['Abandoned Bicycle'])]\n",
    "\n",
    "drop_list = ['pick','drop','no bike','rack','No bike','Abandoned bike']\n",
    "for item in drop_list:   \n",
    "    df_bike=df_bike[~df_bike['closure_reason'].str.contains(item)]\n",
    "    df_bike=df_bike[~df_bike['case_title'].str.contains(item)]\n",
    "\n",
    "# df = df.loc[df['closure_reason'].isin(list)]"
   ]
  },
  {
   "cell_type": "code",
   "execution_count": 4,
   "metadata": {},
   "outputs": [
    {
     "name": "stdout",
     "output_type": "stream",
     "text": [
      "<class 'pandas.core.frame.DataFrame'>\n",
      "Int64Index: 518 entries, 6772 to 1602737\n",
      "Data columns (total 29 columns):\n",
      "case_enquiry_id                   518 non-null int64\n",
      "open_dt                           518 non-null object\n",
      "target_dt                         496 non-null object\n",
      "closed_dt                         516 non-null object\n",
      "ontime                            518 non-null object\n",
      "case_status                       518 non-null object\n",
      "closure_reason                    518 non-null object\n",
      "case_title                        518 non-null object\n",
      "subject                           518 non-null object\n",
      "reason                            518 non-null object\n",
      "type                              518 non-null object\n",
      "queue                             518 non-null object\n",
      "department                        518 non-null object\n",
      "submittedphoto                    280 non-null object\n",
      "closedphoto                       53 non-null object\n",
      "location                          518 non-null object\n",
      "fire_district                     509 non-null object\n",
      "pwd_district                      518 non-null object\n",
      "city_council_district             518 non-null object\n",
      "police_district                   518 non-null object\n",
      "neighborhood                      518 non-null object\n",
      "neighborhood_services_district    518 non-null object\n",
      "ward                              518 non-null object\n",
      "precinct                          518 non-null object\n",
      "location_street_name              499 non-null object\n",
      "location_zipcode                  295 non-null float64\n",
      "latitude                          518 non-null float64\n",
      "longitude                         518 non-null float64\n",
      "source                            518 non-null object\n",
      "dtypes: float64(3), int64(1), object(25)\n",
      "memory usage: 121.4+ KB\n"
     ]
    }
   ],
   "source": [
    "df_bike.info()"
   ]
  },
  {
   "cell_type": "code",
   "execution_count": 6,
   "metadata": {},
   "outputs": [],
   "source": [
    "df_bike.to_csv(\"bike_block.csv\",index = False)"
   ]
  },
  {
   "cell_type": "code",
   "execution_count": 75,
   "metadata": {},
   "outputs": [
    {
     "data": {
      "text/plain": [
       "(13, 29)"
      ]
     },
     "execution_count": 75,
     "metadata": {},
     "output_type": "execute_result"
    }
   ],
   "source": [
    "df_block=df[df['closure_reason'].str.contains(\"bike path\")]\n",
    "df_block.shape"
   ]
  },
  {
   "cell_type": "code",
   "execution_count": 76,
   "metadata": {},
   "outputs": [],
   "source": [
    "df_block.to_csv(\"bike_block_2.csv\",index = False)"
   ]
  },
  {
   "cell_type": "code",
   "execution_count": 77,
   "metadata": {},
   "outputs": [],
   "source": [
    "import math\n",
    "import random\n",
    "import re\n",
    "import os \n",
    "import sys\n",
    "\n",
    "def rotation(endNode, n, index,counter_list): \n",
    "    i = index \n",
    "    while i < n + index : \n",
    "        counter_list.append(endNode[(i % n)])\n",
    "        i = i + 1\n"
   ]
  },
  {
   "cell_type": "code",
   "execution_count": 88,
   "metadata": {},
   "outputs": [],
   "source": [
    "def circularArray(n, endNode):\n",
    "    counter_dict = dict((el,0) for el in endNode)\n",
    "    for i in range(1,n + 1):\n",
    "        index = i \n",
    "        while index < n + i :\n",
    "            counter_dict[index % n] = dict.get(index % n, 0) + 1\n",
    "            index += 1\n",
    "    b = max(counter_dict, key=counter_dict.get)\n",
    "    \n",
    "    \n",
    "    return b"
   ]
  },
  {
   "cell_type": "code",
   "execution_count": 90,
   "metadata": {},
   "outputs": [
    {
     "ename": "TypeError",
     "evalue": "descriptor 'get' requires a 'dict' object but received a 'str'",
     "output_type": "error",
     "traceback": [
      "\u001b[1;31m---------------------------------------------------------------------------\u001b[0m",
      "\u001b[1;31mTypeError\u001b[0m                                 Traceback (most recent call last)",
      "\u001b[1;32m<ipython-input-90-eea52003c96c>\u001b[0m in \u001b[0;36m<module>\u001b[1;34m\u001b[0m\n\u001b[0;32m      2\u001b[0m \u001b[0mendNode\u001b[0m \u001b[1;33m=\u001b[0m \u001b[1;33m[\u001b[0m\u001b[1;36m10\u001b[0m\u001b[1;33m,\u001b[0m \u001b[1;36m4\u001b[0m\u001b[1;33m,\u001b[0m \u001b[1;36m1\u001b[0m\u001b[1;33m,\u001b[0m \u001b[1;36m5\u001b[0m\u001b[1;33m,\u001b[0m \u001b[1;36m10\u001b[0m\u001b[1;33m,\u001b[0m \u001b[1;36m5\u001b[0m\u001b[1;33m]\u001b[0m\u001b[1;33m\u001b[0m\u001b[1;33m\u001b[0m\u001b[0m\n\u001b[0;32m      3\u001b[0m \u001b[0mn\u001b[0m \u001b[1;33m=\u001b[0m \u001b[0mlen\u001b[0m\u001b[1;33m(\u001b[0m\u001b[0mendNode\u001b[0m\u001b[1;33m)\u001b[0m\u001b[1;33m;\u001b[0m\u001b[1;33m\u001b[0m\u001b[1;33m\u001b[0m\u001b[0m\n\u001b[1;32m----> 4\u001b[1;33m \u001b[0mkey\u001b[0m \u001b[1;33m=\u001b[0m \u001b[0mcircularArray\u001b[0m\u001b[1;33m(\u001b[0m\u001b[0mn\u001b[0m\u001b[1;33m,\u001b[0m \u001b[0mendNode\u001b[0m\u001b[1;33m)\u001b[0m\u001b[1;33m\u001b[0m\u001b[1;33m\u001b[0m\u001b[0m\n\u001b[0m\u001b[0;32m      5\u001b[0m \u001b[0mkey\u001b[0m\u001b[1;33m\u001b[0m\u001b[1;33m\u001b[0m\u001b[0m\n",
      "\u001b[1;32m<ipython-input-88-885d4ca69784>\u001b[0m in \u001b[0;36mcircularArray\u001b[1;34m(n, endNode)\u001b[0m\n\u001b[0;32m      4\u001b[0m         \u001b[0mindex\u001b[0m \u001b[1;33m=\u001b[0m \u001b[0mi\u001b[0m\u001b[1;33m\u001b[0m\u001b[1;33m\u001b[0m\u001b[0m\n\u001b[0;32m      5\u001b[0m         \u001b[1;32mwhile\u001b[0m \u001b[0mindex\u001b[0m \u001b[1;33m<\u001b[0m \u001b[0mn\u001b[0m \u001b[1;33m+\u001b[0m \u001b[0mi\u001b[0m \u001b[1;33m:\u001b[0m\u001b[1;33m\u001b[0m\u001b[1;33m\u001b[0m\u001b[0m\n\u001b[1;32m----> 6\u001b[1;33m             \u001b[0mcounter_dict\u001b[0m\u001b[1;33m[\u001b[0m\u001b[0mstr\u001b[0m\u001b[1;33m(\u001b[0m\u001b[0mindex\u001b[0m \u001b[1;33m%\u001b[0m \u001b[0mn\u001b[0m\u001b[1;33m)\u001b[0m\u001b[1;33m]\u001b[0m \u001b[1;33m=\u001b[0m \u001b[0mdict\u001b[0m\u001b[1;33m.\u001b[0m\u001b[0mget\u001b[0m\u001b[1;33m(\u001b[0m\u001b[0mstr\u001b[0m\u001b[1;33m(\u001b[0m\u001b[0mindex\u001b[0m \u001b[1;33m%\u001b[0m \u001b[0mn\u001b[0m\u001b[1;33m)\u001b[0m\u001b[1;33m,\u001b[0m \u001b[1;36m0\u001b[0m\u001b[1;33m)\u001b[0m \u001b[1;33m+\u001b[0m \u001b[1;36m1\u001b[0m\u001b[1;33m\u001b[0m\u001b[1;33m\u001b[0m\u001b[0m\n\u001b[0m\u001b[0;32m      7\u001b[0m             \u001b[0mindex\u001b[0m \u001b[1;33m+=\u001b[0m \u001b[1;36m1\u001b[0m\u001b[1;33m\u001b[0m\u001b[1;33m\u001b[0m\u001b[0m\n\u001b[0;32m      8\u001b[0m     \u001b[0mb\u001b[0m \u001b[1;33m=\u001b[0m \u001b[0mmax\u001b[0m\u001b[1;33m(\u001b[0m\u001b[0mcounter_dict\u001b[0m\u001b[1;33m,\u001b[0m \u001b[0mkey\u001b[0m\u001b[1;33m=\u001b[0m\u001b[0mcounter_dict\u001b[0m\u001b[1;33m.\u001b[0m\u001b[0mget\u001b[0m\u001b[1;33m)\u001b[0m\u001b[1;33m\u001b[0m\u001b[1;33m\u001b[0m\u001b[0m\n",
      "\u001b[1;31mTypeError\u001b[0m: descriptor 'get' requires a 'dict' object but received a 'str'"
     ]
    }
   ],
   "source": [
    "# Driver Code \n",
    "endNode = [10, 4, 1, 5, 10, 5] \n",
    "n = len(endNode); \n",
    "key = circularArray(n, endNode)\n",
    "key"
   ]
  },
  {
   "cell_type": "code",
   "execution_count": 29,
   "metadata": {},
   "outputs": [
    {
     "name": "stdout",
     "output_type": "stream",
     "text": [
      "the B has found 1\n",
      "the A has found 1\n",
      "the F has found 1\n",
      "the D has found 1\n",
      "the C has found 1\n",
      "the E has found 1\n"
     ]
    }
   ],
   "source": [
    "List = ['A', 'B', 'C', 'D', 'E', 'F']\n",
    "List_set = set(List) #List_set是另外一个列表，里面的内容是List里面的无重复 项\n",
    "for item in List_set:\n",
    "    print(\"the %s has found %d\" %(item,List.count(item)))"
   ]
  },
  {
   "cell_type": "code",
   "execution_count": 39,
   "metadata": {},
   "outputs": [
    {
     "name": "stdout",
     "output_type": "stream",
     "text": [
      "[(1, 2), (5, 2), (6, 2), (3, 3), (4, 4), (2, 5)]\n"
     ]
    }
   ],
   "source": [
    "List=[1,2,3,4,5,3,2,1,4,5,6,4,2,3,4,6,2,2]\n",
    "a = {}\n",
    "for i in List:\n",
    "    if List.count(i)>1:\n",
    "        a[i] = List.count(i)\n",
    "a = sorted(a.items(), key=lambda item:item[1])\n",
    "print (a)\n"
   ]
  }
 ],
 "metadata": {
  "kernelspec": {
   "display_name": "cs542",
   "language": "python",
   "name": "cs542"
  },
  "language_info": {
   "codemirror_mode": {
    "name": "ipython",
    "version": 3
   },
   "file_extension": ".py",
   "mimetype": "text/x-python",
   "name": "python",
   "nbconvert_exporter": "python",
   "pygments_lexer": "ipython3",
   "version": "3.6.8"
  }
 },
 "nbformat": 4,
 "nbformat_minor": 2
}
